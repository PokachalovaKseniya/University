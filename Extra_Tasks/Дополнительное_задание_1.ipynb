{
  "nbformat": 4,
  "nbformat_minor": 0,
  "metadata": {
    "colab": {
      "provenance": [],
      "name": "Дополнительное задание 1.ipynb",
      "authorship_tag": "ABX9TyMCn6KSfIWBU5UtRGuFR2lg",
      "include_colab_link": true
    },
    "kernelspec": {
      "name": "python3",
      "display_name": "Python 3"
    },
    "language_info": {
      "name": "python"
    }
  },
  "cells": [
    {
      "cell_type": "markdown",
      "metadata": {
        "id": "view-in-github",
        "colab_type": "text"
      },
      "source": [
        "<a href=\"https://colab.research.google.com/github/PokachalovaKseniya/University/blob/main/Extra_Tasks/%D0%94%D0%BE%D0%BF%D0%BE%D0%BB%D0%BD%D0%B8%D1%82%D0%B5%D0%BB%D1%8C%D0%BD%D0%BE%D0%B5_%D0%B7%D0%B0%D0%B4%D0%B0%D0%BD%D0%B8%D0%B5_1.ipynb\" target=\"_parent\"><img src=\"https://colab.research.google.com/assets/colab-badge.svg\" alt=\"Open In Colab\"/></a>"
      ]
    },
    {
      "cell_type": "markdown",
      "source": [],
      "metadata": {
        "id": "v8Z0lXnbcC7O"
      }
    },
    {
      "cell_type": "code",
      "source": [
        "import random\n",
        "comp_number=random.randint(0,100)\n",
        "count=0\n",
        "print(\"Я загадал число\", comp_number, \"!\", \"Попробуйте его угадать! :-) (Чтобы выйти из игры введите слово выход)\")\n",
        "while True:\n",
        "  user_number=input(\"Введите число:\")\n",
        "  if user_number.casefold()==\"выход\":\n",
        "    print(\"Вы вышли из игры. ;-(\")\n",
        "    break\n",
        "\n",
        "  try:\n",
        "    user_nuber=int(user_number)\n",
        "  except ValueError:\n",
        "    print(\"Некорректный ввод. Введите ЧИСЛО!\")\n",
        "    continue\n",
        "  count+=1\n",
        "  if int(user_number)>comp_number:\n",
        "    print(\"Хм... Ваше число больше моего. Попробуйте ещё раз!\")\n",
        "  elif int(user_number)<comp_number:\n",
        "    print(\"Хм... Ваше число меньше моего. Попробуйте ещё раз!\")\n",
        "  else:\n",
        "     print(\"УРА!!! Вы угадали моё число! Кол-во попыток:\", count)\n",
        "     break"
      ],
      "metadata": {
        "colab": {
          "base_uri": "https://localhost:8080/"
        },
        "id": "2KSiChjca-5A",
        "outputId": "47213b9f-01ef-4fb3-d335-96f85c78deeb"
      },
      "execution_count": 3,
      "outputs": [
        {
          "output_type": "stream",
          "name": "stdout",
          "text": [
            "Я загадал число 98 ! Попробуйте его угадать! :-) (Чтобы выйти из игры введите слово выход)\n",
            "Введите число:80\n",
            "Хм... Ваше число меньше моего. Попробуйте ещё раз!\n",
            "Введите число:100\n",
            "Хм... Ваше число больше моего. Попробуйте ещё раз!\n",
            "Введите число:ораловалоывтаолыт\n",
            "Некорректный ввод. Введите ЧИСЛО!\n",
            "Введите число:98\n",
            "УРА!!! Вы угадали моё число! Кол-во попыток: 3\n"
          ]
        }
      ]
    }
  ]
}