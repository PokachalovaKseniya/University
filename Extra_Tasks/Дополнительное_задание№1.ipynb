{
  "nbformat": 4,
  "nbformat_minor": 0,
  "metadata": {
    "colab": {
      "provenance": []
    },
    "kernelspec": {
      "name": "python3",
      "display_name": "Python 3"
    },
    "language_info": {
      "name": "python"
    }
  },
  "cells": [
    {
      "cell_type": "code",
      "execution_count": 2,
      "metadata": {
        "id": "FScmUcgfR7ju",
        "colab": {
          "base_uri": "https://localhost:8080/"
        },
        "outputId": "66be6003-6576-45f7-9ff4-cd3be1b2b9ab"
      },
      "outputs": [
        {
          "output_type": "stream",
          "name": "stdout",
          "text": [
            "Я загадал число 74 ! Попробуйте его угадать! :-) (Чобы выйти из игры введите слово выход)\n",
            "Введите число:выход\n",
            "Вы вышли из игры. ;-(\n"
          ]
        }
      ],
      "source": [
        "import random\n",
        "comp_number=random.randint(0,100)\n",
        "count=0\n",
        "print(\"Я загадал число\", comp_number, \"!\", \"Попробуйте его угадать! :-) (Чобы выйти из игры введите слово выход)\")\n",
        "while True:\n",
        "  user_number=input(\"Введите число:\")\n",
        "  if user_number.casefold()==\"выход\":\n",
        "    print(\"Вы вышли из игры. ;-(\")\n",
        "    break\n",
        "\n",
        "  try:\n",
        "    user_nuber=int(user_number)\n",
        "  except ValueError:\n",
        "    print(\"Некорректный ввод. Введите ЧИСЛО!\")\n",
        "    continue\n",
        "  count+=1\n",
        "  if int(user_number)>comp_number:\n",
        "    print(\"Хм... Ваше число больше моего. Попробуйте ещё раз!\")\n",
        "  elif int(user_number)<comp_number:\n",
        "    print(\"Хм... Ваше число меньше моего. Попробуйте ещё раз!\")\n",
        "  else:\n",
        "     print(\"УРА!!! Вы угадали моё число! Кол-во попыток:\", count)\n",
        "     break"
      ]
    }
  ]
}