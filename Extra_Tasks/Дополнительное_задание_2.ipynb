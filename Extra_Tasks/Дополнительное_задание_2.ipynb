{
  "nbformat": 4,
  "nbformat_minor": 0,
  "metadata": {
    "colab": {
      "provenance": [],
      "authorship_tag": "ABX9TyNwwxVkxuzE0PTbudsvQ+yf",
      "include_colab_link": true
    },
    "kernelspec": {
      "name": "python3",
      "display_name": "Python 3"
    },
    "language_info": {
      "name": "python"
    }
  },
  "cells": [
    {
      "cell_type": "markdown",
      "metadata": {
        "id": "view-in-github",
        "colab_type": "text"
      },
      "source": [
        "<a href=\"https://colab.research.google.com/github/PokachalovaKseniya/University/blob/main/Extra_Tasks/%D0%94%D0%BE%D0%BF%D0%BE%D0%BB%D0%BD%D0%B8%D1%82%D0%B5%D0%BB%D1%8C%D0%BD%D0%BE%D0%B5_%D0%B7%D0%B0%D0%B4%D0%B0%D0%BD%D0%B8%D0%B5_2.ipynb\" target=\"_parent\"><img src=\"https://colab.research.google.com/assets/colab-badge.svg\" alt=\"Open In Colab\"/></a>"
      ]
    },
    {
      "cell_type": "code",
      "execution_count": null,
      "metadata": {
        "id": "ZNKueQ5D5ywi"
      },
      "outputs": [],
      "source": [
        "def standartize_name(name: str) -> str:\n",
        "  return name.title()\n",
        "\n",
        "def standartize_phonenumber(phonenumber: str) -> str:\n",
        "  phonenumber_digits=''.join(char for char in phonenumber if char.isdigit())\n",
        "\n",
        "  if len(phonenumbre_digits)<10:\n",
        "    return \"Слишком мало символов. Попробуйте ещё раз.\"\n",
        "\n",
        "  elif len(phonenumbre_digits)==10:\n",
        "    return \"+7\" + phonenumbre_digits[1:]\n",
        "\n",
        "  elif len(phonenumbre_digits)==11:\n",
        "    return \"+7\" + phonenumbre_digits[1:]\n",
        "\n",
        "  elif len(phonenumbre_digits)>11:\n",
        "    return \"Слишком много символов. Попробуйте ещё раз.\"\n",
        "\n",
        "  return phonenumbre_digits\n",
        "\n",
        "def append_contact(phone_directory) -> dict:\n",
        "\n",
        "  name=input(\"Введите имя контакта: \")\n",
        "  phonenomber=input(\"Введите номер телефона начиная с '9' :\")\n",
        "\n",
        "  standartize_name=standartize_name(name)\n",
        "  standartize_phonenumber=standartize_phonenumber(phonenumber)\n",
        "\n",
        "  new_phone_directory=phone_directory.copy()\n",
        "  new_phone_directory[standartize_name]=standartize_phonenumber\n",
        "  print(\"Вы успешно добавили контакт!\")\n",
        "  return new_phone_directory\n",
        "\n",
        "def clear_contact(phone_directory: dict) -> dict:\n",
        "  name=input(\"Введите имя контакта: \")\n",
        "  standartize_name=standartize_name(name)\n",
        "\n",
        "  if standartize_name in phone_directory:\n",
        "    new_phone_directory=phone_directory.copy()\n",
        "    del new_phone_directory[standartize_name]\n",
        "    print(\"Вы успешно удалили контакт.\")\n",
        "    return new_phone_directory\n",
        "  else:\n",
        "    print(\"Такого контакта не существует.\")\n",
        "    return phone_directory\n",
        "\n"
      ]
    }
  ]
}